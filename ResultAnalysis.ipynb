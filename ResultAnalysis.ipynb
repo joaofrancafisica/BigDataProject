{
 "cells": [
  {
   "cell_type": "markdown",
   "id": "c6b7a477",
   "metadata": {},
   "source": [
    "<img src=\"https://farm66.staticflickr.com/65535/49055715328_092031af74_o.png\"  width=\"150\" />\n",
    "\n",
    "### CBPF - Centro Brasileiro de Pesquisas Físicas\n",
    "\n",
    "# Projeto final do curso de Análise de big data e Astroinformática\n",
    "\n",
    "### João Paulo Correia de França\n",
    "### contato: joao.contato505@gmail.com\n",
    "\n",
    "\n",
    "### Professor: Clécio R. de Bom"
   ]
  },
  {
   "cell_type": "code",
   "execution_count": null,
   "id": "8a820944",
   "metadata": {},
   "outputs": [],
   "source": [
    "import pandas as pd\n",
    "import numpy as np\n",
    "import matplotlib.pyplot as plt\n",
    "from ipywidgets import *\n",
    "import os, fnmatch\n",
    "from PIL import Image\n",
    "\n",
    "%matplotlib inline"
   ]
  },
  {
   "cell_type": "code",
   "execution_count": null,
   "id": "f2ba22ba",
   "metadata": {},
   "outputs": [],
   "source": [
    "# deep learning results\n",
    "deep_results = pd.read_csv('./results_catalog.txt')\n",
    "deep_results.head()"
   ]
  },
  {
   "cell_type": "code",
   "execution_count": null,
   "id": "0b3ea8de",
   "metadata": {},
   "outputs": [],
   "source": [
    "# cutting data\n",
    "deep_results = deep_results[deep_results[\"Einstein_Radius_actual\"]<2.25]"
   ]
  },
  {
   "cell_type": "code",
   "execution_count": null,
   "id": "31380526",
   "metadata": {},
   "outputs": [],
   "source": [
    "# get metrics, such as mean bias, median bias and sigma68\n",
    "def get_metrics(true,predicted):\n",
    "    \"\"\"\n",
    "    def function which give metrics on data\n",
    "    true: list/array\n",
    "        true values\n",
    "    predicted: list/array\n",
    "        predicted values\n",
    "    \"\"\"\n",
    "    # delta einstein angle\n",
    "    deltatheta=true-predicted\n",
    "    # bias over mean\n",
    "    mean_bias=np.mean(deltatheta)\n",
    "    # sigma 16 and 84 percentiles\n",
    "    p16=np.percentile(deltatheta,15.85)\n",
    "    p84=np.percentile(deltatheta,84.05)\n",
    "    # sigma 68 \n",
    "    sigma68=0.5*(p84-p16)\n",
    "    # bias over median\n",
    "    median_bias=np.percentile(deltatheta,50)\n",
    "    return mean_bias,median_bias,sigma68"
   ]
  },
  {
   "cell_type": "code",
   "execution_count": null,
   "id": "e17b7c35",
   "metadata": {},
   "outputs": [],
   "source": [
    "# results of deep learning analysis predicted x true analysis\n",
    "types = ['Inception', 'Sequential', 'ResNet', 'ResNetXt']\n",
    "\n",
    "plt.rcParams.update({\"font.size\": 13})\n",
    "\n",
    "fig, ax = plt.subplots(1, 4, figsize=(16, 4), sharex=True, sharey=True)\n",
    "    \n",
    "for i in range(0, len(types)):\n",
    "    ax[i].scatter(deep_results['Einstein_Radius_actual'], deep_results['Einstein_Radius_'+types[i]], c=np.abs(deep_results['Einstein_Radius_'+types[i]]-deep_results['Einstein_Radius_actual'])/deep_results['Einstein_Radius_actual'], ec='k')\n",
    "    ax[i].plot(np.linspace(min(deep_results['Einstein_Radius_actual']), max(deep_results['Einstein_Radius_actual'])), np.linspace(min(deep_results['Einstein_Radius_actual']), max(deep_results['Einstein_Radius_actual'])), 'r', lw=2.5)\n",
    "    ax[i].set_ylim(min(deep_results['Einstein_Radius_actual']), 2.25);\n",
    "    ax[i].set_xlabel('true $θ_E$')\n",
    "\n",
    "    if i == 0:\n",
    "        ax[i].set_ylabel('predicted $θ_E$')"
   ]
  },
  {
   "cell_type": "code",
   "execution_count": null,
   "id": "1ed7265e",
   "metadata": {},
   "outputs": [],
   "source": [
    "# metrics output\n",
    "for i in range(0, len(types)):\n",
    "    mean_bias, median_bias, sigma68=get_metrics(deep_results['Einstein_Radius_actual'], deep_results['Einstein_Radius_'+types[i]])\n",
    "    print('====================='+types[i]+'=====================')\n",
    "    print('σ68: '+str(round(sigma68,3)), ', Mean Bias: '+str(round(mean_bias,3)), ', Median Bias: '+str(round(median_bias,3)))"
   ]
  },
  {
   "cell_type": "markdown",
   "id": "3591dece",
   "metadata": {},
   "source": [
    "## Outlier detection on bayesian analysis"
   ]
  },
  {
   "cell_type": "code",
   "execution_count": null,
   "id": "8ca2821b",
   "metadata": {},
   "outputs": [],
   "source": [
    "def find(pattern, path):\n",
    "    \"\"\"\n",
    "    def function to get specific files on a folder\n",
    "\n",
    "    pattern: str\n",
    "        file extension\n",
    "    path: str\n",
    "        path of the file\n",
    "    \"\"\"\n",
    "    result = []\n",
    "    for root, dirs, files in os.walk(path):\n",
    "        for name in files:\n",
    "            if fnmatch.fnmatch(name, pattern):\n",
    "                result.append(os.path.join(root, name))\n",
    "    return result"
   ]
  },
  {
   "cell_type": "code",
   "execution_count": null,
   "id": "6d1e4c32",
   "metadata": {},
   "outputs": [],
   "source": [
    "# duplicated output path, picking-up only pair\n",
    "fit_images = find('subplot_fit_imaging.png', './output/')\n",
    "del fit_images[1::2]"
   ]
  },
  {
   "cell_type": "code",
   "execution_count": null,
   "id": "0b845888",
   "metadata": {},
   "outputs": [],
   "source": [
    "print('Total inverse modeling files on path:', len(fit_images))"
   ]
  },
  {
   "cell_type": "code",
   "execution_count": null,
   "id": "c3af6e30",
   "metadata": {},
   "outputs": [],
   "source": [
    "# visual way to detect outliers, option list for widgets\n",
    "optionslist = []\n",
    "for i in range(0,len(fit_images)):\n",
    "    optionslist.append(i)"
   ]
  },
  {
   "cell_type": "code",
   "execution_count": null,
   "id": "278ac019",
   "metadata": {},
   "outputs": [],
   "source": [
    "fit_images[0][9:-75]"
   ]
  },
  {
   "cell_type": "code",
   "execution_count": null,
   "id": "5904adf2",
   "metadata": {},
   "outputs": [],
   "source": [
    "fit_images[0]"
   ]
  },
  {
   "cell_type": "code",
   "execution_count": null,
   "id": "73192b16",
   "metadata": {},
   "outputs": [],
   "source": [
    "def update_graph(i):\n",
    "    \"\"\"\n",
    "    def function to update our visual graph\n",
    "    i: int\n",
    "        option, system\n",
    "    \"\"\"\n",
    "    print(fit_images[i][9:-75])\n",
    "    fig, ax = plt.subplots(1, 1, figsize=(16, 16), sharex=True, sharey=True)\n",
    "    img=np.array(Image.open(fit_images[i]))\n",
    "    ax.imshow(img)\n",
    "    ax.set_xticks([])\n",
    "    ax.set_yticks([])\n",
    "    \n",
    "i = widgets.Dropdown(options=optionslist, value=15, description='Component:', disabled=False)\n",
    "widgets.interactive(update_graph,i = i)"
   ]
  },
  {
   "cell_type": "code",
   "execution_count": null,
   "id": "81d2571f",
   "metadata": {},
   "outputs": [],
   "source": [
    "# outliers detected\n",
    "outliers = [343, 330, 860, 474, 276, 87, 769, 805, 1215, 121, 871, 1095, 955, 1082, 1337]\n",
    "print('Number of detected outliers: ', len(outliers))"
   ]
  },
  {
   "cell_type": "code",
   "execution_count": null,
   "id": "94497078",
   "metadata": {
    "scrolled": true
   },
   "outputs": [],
   "source": [
    "# Catalog simulation parameters (true values)\n",
    "lenses_DESc = pd.read_csv('./lenses_DESc.txt',\n",
    "                          sep=' ',\n",
    "                          comment='#',\n",
    "                          names=['id', 'zl', 'zs', 'b', 'sig_v', 'ql', 'rl', 'lens_g', 'lens_r', 'lens_i', 'xs', 'ys', 'qs', 'ps', 'rs', 'source_g', 'source_r', 'source_i', 'mu_s', 'g_band_coadd_seeing', 'g_band_coadd_signal_to_noise', 'r_band_coadd_seeing', 'r_band_coadd_signal_to_noise', 'i_band_coadd_seeing'])\n",
    "lenses_DESc.head()"
   ]
  },
  {
   "cell_type": "code",
   "execution_count": null,
   "id": "ec33bd2c",
   "metadata": {},
   "outputs": [],
   "source": [
    "# picking up results obtained after an outlier detection, here we compare with nominal values\n",
    "theta_einstein = []\n",
    "theta_einstein_chains = []\n",
    "index = []\n",
    "for i in range(0, len(fit_images)):\n",
    "    if int(fit_images[i][9:-75]) not in outliers:\n",
    "        # getting the system index\n",
    "        idx=int(fit_images[i][9:-75])\n",
    "        index.append(idx)\n",
    "        # getting model results, here we have used pickle to recover all the model\n",
    "        model_results_path=find('samples.pickle', './output/'+str(idx))[0]\n",
    "        result = pd.read_pickle(model_results_path)\n",
    "        # MCMC chain\n",
    "        chain = pd.DataFrame(np.array(result.results[\"samples\"]), columns=result.names, dtype=float)\n",
    "        burnin = int(len(chain)*0.7) # burnin of 10%\n",
    "        # getting the percentiles of 1 sigma\n",
    "        theta_value_inf, theta_value, theta_value_sup = np.percentile(chain['galaxies_lens_mass_einstein_radius'][burnin:], [15.85, 50., 84.05])\n",
    "        # passing through a list from dictionary\n",
    "        theta_einstein_chains.append(np.array(chain['galaxies_lens_mass_einstein_radius']))\n",
    "        theta_einstein.append({'inf':theta_value_inf, 'mean':theta_value, 'sup':theta_value_sup})"
   ]
  },
  {
   "cell_type": "code",
   "execution_count": null,
   "id": "c6191a75",
   "metadata": {},
   "outputs": [],
   "source": [
    "# variation over the real value"
   ]
  },
  {
   "cell_type": "code",
   "execution_count": null,
   "id": "4c4c9aa5",
   "metadata": {},
   "outputs": [],
   "source": [
    "disc = []\n",
    "for i in range(0, len(theta_einstein)):\n",
    "    disc.append(theta_einstein[i]['mean']- float(lenses_DESc[lenses_DESc['id']==index[i]]['b']))"
   ]
  },
  {
   "cell_type": "code",
   "execution_count": null,
   "id": "459482b2",
   "metadata": {},
   "outputs": [],
   "source": [
    "plt.rcParams.update({\"font.size\": 13})\n",
    "plt.hist(disc, range=(-0.3, 0.4), ec='k', bins=10, density=True)\n",
    "plt.xlabel('$θ_{E,m}$-$θ_{E,t}$');"
   ]
  },
  {
   "cell_type": "code",
   "execution_count": null,
   "id": "7c045894",
   "metadata": {
    "scrolled": false
   },
   "outputs": [],
   "source": [
    "# graph to compare nominal values to predicted ones in 1 sigma\n",
    "plt.rcParams.update({\"font.size\": 10})\n",
    "\n",
    "# rows and columns\n",
    "rows = 3\n",
    "columns = 5\n",
    "\n",
    "theta_einstein_reshaped = np.array(theta_einstein).reshape(rows, columns)\n",
    "index_reshaped = np.array(index).reshape(rows, columns)\n",
    "\n",
    "fig, ax = plt.subplots(rows, columns, figsize=(16, 8), sharey=True)\n",
    "fig.tight_layout() \n",
    "for i in range(0, rows):\n",
    "    for j in range(0, columns):\n",
    "        ax[i][j].errorbar(theta_einstein_reshaped[i][j]['mean'], 0, xerr=[[theta_einstein_reshaped[i][j]['mean']-theta_einstein_reshaped[i][j]['inf']], [theta_einstein_reshaped[i][j]['sup']-theta_einstein_reshaped[i][j]['mean']]], fmt=\"o\", c=\"b\")\n",
    "        #print(float(lenses_DESc[lenses_DESc['id']==index[i]]['b']))\n",
    "        ax[i][j].plot(float(lenses_DESc[lenses_DESc['id']==index_reshaped[i][j]]['b']), 1, 'ko')\n",
    "        ax[i][j].set_yticks([])\n",
    "        ax[i][j].set_title(str(index_reshaped[i][j]))"
   ]
  },
  {
   "cell_type": "code",
   "execution_count": null,
   "id": "13125e7f",
   "metadata": {},
   "outputs": [],
   "source": [
    "# widget image options\n",
    "image_model_optionlist = []\n",
    "for i in range(0, len(index)):\n",
    "        image_model_optionlist.append(i)"
   ]
  },
  {
   "cell_type": "code",
   "execution_count": null,
   "id": "a7504141",
   "metadata": {},
   "outputs": [],
   "source": [
    "# only the good ones\n",
    "fit_images_ok = []\n",
    "for i in range(0, len(fit_images)):\n",
    "    if int(fit_images[i][9:-75]) in index:\n",
    "        fit_images_ok.append(fit_images[i])"
   ]
  },
  {
   "cell_type": "code",
   "execution_count": null,
   "id": "c0307621",
   "metadata": {},
   "outputs": [],
   "source": [
    "def update_graph(i):\n",
    "    \"\"\"\n",
    "    def function to update our visual graph\n",
    "    i: int\n",
    "        option, system\n",
    "    \"\"\"\n",
    "    fig, ax = plt.subplots(1, 2, figsize=(12, 6))\n",
    "    \n",
    "    fig.suptitle('$θ_{E, t}$:  '+str(round(float(lenses_DESc[lenses_DESc['id']==index[i]]['b']), 2))+'   $θ_{E, m}$: '+str(round(theta_einstein[i]['mean'], 2)) + ' $\\pm$ (' +str(round(theta_einstein[i]['mean']-theta_einstein[i]['inf'], 2))+ ', '+str(round(theta_einstein[i]['sup']-theta_einstein[i]['mean'], 2))+')', fontsize=20)\n",
    "    \n",
    "    img=np.array(Image.open(fit_images_ok[i]))\n",
    "    \n",
    "    ax[0].imshow(img)\n",
    "    ax[0].set_title('Original Image')\n",
    "    ax[0].set_xlim(160, 440)\n",
    "    ax[0].set_ylim(390, 120)\n",
    "    ax[0].set_xticks([])\n",
    "    ax[0].set_yticks([])\n",
    "    ax[0].spines['top'].set_visible(False)\n",
    "    ax[0].spines['right'].set_visible(False)\n",
    "    ax[0].spines['bottom'].set_visible(False)\n",
    "    ax[0].spines['left'].set_visible(False)\n",
    "    \n",
    "    ax[1].imshow(img)\n",
    "    ax[1].set_title('Model Image')\n",
    "    ax[1].set_xlim(870, 1150)\n",
    "    ax[1].set_ylim(390, 120)\n",
    "    ax[1].set_xticks([])\n",
    "    ax[1].set_yticks([])\n",
    "    ax[1].spines['top'].set_visible(False)\n",
    "    ax[1].spines['right'].set_visible(False)\n",
    "    ax[1].spines['bottom'].set_visible(False)\n",
    "    ax[1].spines['left'].set_visible(False)\n",
    "\n",
    "    \n",
    "i = widgets.Dropdown(options=image_model_optionlist, value=0, description='Component:', disabled=False)\n",
    "widgets.interactive(update_graph,i = i)"
   ]
  },
  {
   "cell_type": "code",
   "execution_count": null,
   "id": "78b3be1c",
   "metadata": {},
   "outputs": [],
   "source": []
  }
 ],
 "metadata": {
  "kernelspec": {
   "display_name": "Python 3 (ipykernel)",
   "language": "python",
   "name": "python3"
  },
  "language_info": {
   "codemirror_mode": {
    "name": "ipython",
    "version": 3
   },
   "file_extension": ".py",
   "mimetype": "text/x-python",
   "name": "python",
   "nbconvert_exporter": "python",
   "pygments_lexer": "ipython3",
   "version": "3.8.10"
  }
 },
 "nbformat": 4,
 "nbformat_minor": 5
}
