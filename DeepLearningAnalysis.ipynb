{
 "cells": [
  {
   "cell_type": "markdown",
   "metadata": {},
   "source": [
    "<img src=\"https://farm66.staticflickr.com/65535/49055715328_092031af74_o.png\"  width=\"150\" />\n",
    "\n",
    "### CBPF - Centro Brasileiro de Pesquisas Físicas\n",
    "\n",
    "# Projeto final do curso de Análise de big data e Astroinformática\n",
    "\n",
    "### João Paulo Correia de França\n",
    "### contato: joao.contato505@gmail.com\n",
    "\n",
    "\n",
    "### Professor: Clécio R. de Bom"
   ]
  },
  {
   "cell_type": "code",
   "execution_count": 1,
   "metadata": {
    "id": "tJulExpwKVFg"
   },
   "outputs": [
    {
     "name": "stderr",
     "output_type": "stream",
     "text": [
      "2021-11-18 20:31:42.935701: W tensorflow/stream_executor/platform/default/dso_loader.cc:64] Could not load dynamic library 'libcudart.so.11.0'; dlerror: libcudart.so.11.0: cannot open shared object file: No such file or directory\n",
      "2021-11-18 20:31:42.935772: I tensorflow/stream_executor/cuda/cudart_stub.cc:29] Ignore above cudart dlerror if you do not have a GPU set up on your machine.\n"
     ]
    }
   ],
   "source": [
    "import numpy as np\n",
    "import matplotlib.pyplot as plt\n",
    "import pandas as pd\n",
    "from astropy.io import fits\n",
    "import os\n",
    "import tensorflow as tf\n",
    "from sklearn.model_selection import train_test_split\n",
    "from sklearn.metrics import r2_score\n",
    "from keras.models import Sequential,load_model,Model\n",
    "from keras.layers import Dense,Dropout,Flatten,Conv2D,MaxPool2D,ZeroPadding2D,Activation\n",
    "from keras.layers import Conv2D,MaxPool2D,Dense,Dropout,BatchNormalization,Flatten,Input\n",
    "import time"
   ]
  },
  {
   "cell_type": "code",
   "execution_count": 2,
   "metadata": {
    "id": "9SDXzrmuQV7U"
   },
   "outputs": [],
   "source": [
    "path = './'"
   ]
  },
  {
   "cell_type": "code",
   "execution_count": 3,
   "metadata": {
    "id": "7bhyvD_6Lf7L"
   },
   "outputs": [
    {
     "name": "stdout",
     "output_type": "stream",
     "text": [
      "Current strong lensing systems on path: 22641\n"
     ]
    }
   ],
   "source": [
    "# images path\n",
    "\n",
    "files_names = os.listdir(path+'/LensPop/images/')\n",
    "\n",
    "print('Current strong lensing systems on path: {:4.0f}'.format(len(files_names)))"
   ]
  },
  {
   "cell_type": "code",
   "execution_count": 4,
   "metadata": {
    "colab": {
     "base_uri": "https://localhost:8080/",
     "height": 226
    },
    "id": "Lth-adp2OULb",
    "outputId": "44f787b8-b75c-4bde-f22a-32a325f3aa11"
   },
   "outputs": [
    {
     "data": {
      "text/html": [
       "<div>\n",
       "<style scoped>\n",
       "    .dataframe tbody tr th:only-of-type {\n",
       "        vertical-align: middle;\n",
       "    }\n",
       "\n",
       "    .dataframe tbody tr th {\n",
       "        vertical-align: top;\n",
       "    }\n",
       "\n",
       "    .dataframe thead th {\n",
       "        text-align: right;\n",
       "    }\n",
       "</style>\n",
       "<table border=\"1\" class=\"dataframe\">\n",
       "  <thead>\n",
       "    <tr style=\"text-align: right;\">\n",
       "      <th></th>\n",
       "      <th>id</th>\n",
       "      <th>zl</th>\n",
       "      <th>zs</th>\n",
       "      <th>b</th>\n",
       "      <th>sig_v</th>\n",
       "      <th>ql</th>\n",
       "      <th>rl</th>\n",
       "      <th>lens_g</th>\n",
       "      <th>lens_r</th>\n",
       "      <th>lens_i</th>\n",
       "      <th>...</th>\n",
       "      <th>rs</th>\n",
       "      <th>source_g</th>\n",
       "      <th>source_r</th>\n",
       "      <th>source_i</th>\n",
       "      <th>mu_s</th>\n",
       "      <th>g_band_coadd_seeing</th>\n",
       "      <th>g_band_coadd_signal_to_noise</th>\n",
       "      <th>r_band_coadd_seeing</th>\n",
       "      <th>r_band_coadd_signal_to_noise</th>\n",
       "      <th>i_band_coadd_seeing</th>\n",
       "    </tr>\n",
       "  </thead>\n",
       "  <tbody>\n",
       "    <tr>\n",
       "      <th>0</th>\n",
       "      <td>0</td>\n",
       "      <td>0.320</td>\n",
       "      <td>1.784</td>\n",
       "      <td>1.497</td>\n",
       "      <td>265.112</td>\n",
       "      <td>0.771</td>\n",
       "      <td>1.330</td>\n",
       "      <td>19.961</td>\n",
       "      <td>18.086</td>\n",
       "      <td>17.442</td>\n",
       "      <td>...</td>\n",
       "      <td>131.188</td>\n",
       "      <td>0.290</td>\n",
       "      <td>6.413</td>\n",
       "      <td>1.352</td>\n",
       "      <td>37.000</td>\n",
       "      <td>1.352</td>\n",
       "      <td>19.368</td>\n",
       "      <td>1.352</td>\n",
       "      <td>11.432</td>\n",
       "      <td>32.021</td>\n",
       "    </tr>\n",
       "    <tr>\n",
       "      <th>1</th>\n",
       "      <td>1</td>\n",
       "      <td>0.402</td>\n",
       "      <td>1.790</td>\n",
       "      <td>1.372</td>\n",
       "      <td>264.665</td>\n",
       "      <td>0.811</td>\n",
       "      <td>0.819</td>\n",
       "      <td>20.778</td>\n",
       "      <td>18.833</td>\n",
       "      <td>18.103</td>\n",
       "      <td>...</td>\n",
       "      <td>35.232</td>\n",
       "      <td>0.408</td>\n",
       "      <td>4.585</td>\n",
       "      <td>1.352</td>\n",
       "      <td>22.528</td>\n",
       "      <td>1.352</td>\n",
       "      <td>11.003</td>\n",
       "      <td>1.352</td>\n",
       "      <td>9.419</td>\n",
       "      <td>19.750</td>\n",
       "    </tr>\n",
       "    <tr>\n",
       "      <th>2</th>\n",
       "      <td>3</td>\n",
       "      <td>0.569</td>\n",
       "      <td>1.285</td>\n",
       "      <td>1.361</td>\n",
       "      <td>318.578</td>\n",
       "      <td>0.671</td>\n",
       "      <td>0.853</td>\n",
       "      <td>21.374</td>\n",
       "      <td>19.530</td>\n",
       "      <td>18.255</td>\n",
       "      <td>...</td>\n",
       "      <td>113.910</td>\n",
       "      <td>0.290</td>\n",
       "      <td>8.931</td>\n",
       "      <td>1.352</td>\n",
       "      <td>32.892</td>\n",
       "      <td>1.352</td>\n",
       "      <td>22.761</td>\n",
       "      <td>1.352</td>\n",
       "      <td>16.575</td>\n",
       "      <td>28.284</td>\n",
       "    </tr>\n",
       "    <tr>\n",
       "      <th>3</th>\n",
       "      <td>4</td>\n",
       "      <td>0.189</td>\n",
       "      <td>3.385</td>\n",
       "      <td>1.686</td>\n",
       "      <td>257.082</td>\n",
       "      <td>0.709</td>\n",
       "      <td>2.291</td>\n",
       "      <td>18.166</td>\n",
       "      <td>16.757</td>\n",
       "      <td>16.249</td>\n",
       "      <td>...</td>\n",
       "      <td>125.445</td>\n",
       "      <td>0.321</td>\n",
       "      <td>7.212</td>\n",
       "      <td>1.352</td>\n",
       "      <td>23.054</td>\n",
       "      <td>1.352</td>\n",
       "      <td>15.983</td>\n",
       "      <td>1.352</td>\n",
       "      <td>9.900</td>\n",
       "      <td>17.660</td>\n",
       "    </tr>\n",
       "    <tr>\n",
       "      <th>4</th>\n",
       "      <td>5</td>\n",
       "      <td>0.568</td>\n",
       "      <td>1.057</td>\n",
       "      <td>0.658</td>\n",
       "      <td>242.661</td>\n",
       "      <td>0.768</td>\n",
       "      <td>0.409</td>\n",
       "      <td>22.679</td>\n",
       "      <td>20.836</td>\n",
       "      <td>19.562</td>\n",
       "      <td>...</td>\n",
       "      <td>53.932</td>\n",
       "      <td>0.008</td>\n",
       "      <td>156.589</td>\n",
       "      <td>1.352</td>\n",
       "      <td>0.002</td>\n",
       "      <td>1.352</td>\n",
       "      <td>21.890</td>\n",
       "      <td>1.352</td>\n",
       "      <td>25.334</td>\n",
       "      <td>0.000</td>\n",
       "    </tr>\n",
       "  </tbody>\n",
       "</table>\n",
       "<p>5 rows × 24 columns</p>\n",
       "</div>"
      ],
      "text/plain": [
       "   id     zl     zs      b    sig_v     ql     rl  lens_g  lens_r  lens_i  \\\n",
       "0   0  0.320  1.784  1.497  265.112  0.771  1.330  19.961  18.086  17.442   \n",
       "1   1  0.402  1.790  1.372  264.665  0.811  0.819  20.778  18.833  18.103   \n",
       "2   3  0.569  1.285  1.361  318.578  0.671  0.853  21.374  19.530  18.255   \n",
       "3   4  0.189  3.385  1.686  257.082  0.709  2.291  18.166  16.757  16.249   \n",
       "4   5  0.568  1.057  0.658  242.661  0.768  0.409  22.679  20.836  19.562   \n",
       "\n",
       "   ...       rs  source_g  source_r  source_i    mu_s  g_band_coadd_seeing  \\\n",
       "0  ...  131.188     0.290     6.413     1.352  37.000                1.352   \n",
       "1  ...   35.232     0.408     4.585     1.352  22.528                1.352   \n",
       "2  ...  113.910     0.290     8.931     1.352  32.892                1.352   \n",
       "3  ...  125.445     0.321     7.212     1.352  23.054                1.352   \n",
       "4  ...   53.932     0.008   156.589     1.352   0.002                1.352   \n",
       "\n",
       "   g_band_coadd_signal_to_noise  r_band_coadd_seeing  \\\n",
       "0                        19.368                1.352   \n",
       "1                        11.003                1.352   \n",
       "2                        22.761                1.352   \n",
       "3                        15.983                1.352   \n",
       "4                        21.890                1.352   \n",
       "\n",
       "   r_band_coadd_signal_to_noise  i_band_coadd_seeing  \n",
       "0                        11.432               32.021  \n",
       "1                         9.419               19.750  \n",
       "2                        16.575               28.284  \n",
       "3                         9.900               17.660  \n",
       "4                        25.334                0.000  \n",
       "\n",
       "[5 rows x 24 columns]"
      ]
     },
     "execution_count": 4,
     "metadata": {},
     "output_type": "execute_result"
    }
   ],
   "source": [
    "# Catalog simulation parameters (true values)\n",
    "lenses_DESc = pd.read_csv(path+'/lenses_DESc.txt',\n",
    "                          sep=' ',\n",
    "                          comment='#',\n",
    "                          names=['id', 'zl', 'zs', 'b', 'sig_v', 'ql', 'rl', 'lens_g', 'lens_r', 'lens_i', 'xs', 'ys', 'qs', 'ps', 'rs', 'source_g', 'source_r', 'source_i', 'mu_s', 'g_band_coadd_seeing', 'g_band_coadd_signal_to_noise', 'r_band_coadd_seeing', 'r_band_coadd_signal_to_noise', 'i_band_coadd_seeing'])\n",
    "lenses_DESc.head()"
   ]
  },
  {
   "cell_type": "code",
   "execution_count": 5,
   "metadata": {
    "id": "BJe8aTFZOu6e"
   },
   "outputs": [
    {
     "name": "stdout",
     "output_type": "stream",
     "text": [
      "Strong lensing systems (after cut) on path: 18598\n"
     ]
    }
   ],
   "source": [
    "# not all images have information in lenses_DESc.txt. In order to avoid some trouble, lets perform a cut on data\n",
    "data_cut = []\n",
    "for i in range(0, len(files_names)):\n",
    "    if int(files_names[i]) in np.array(lenses_DESc['id']):\n",
    "        data_cut.append(int(files_names[i]))\n",
    "        \n",
    "print('Strong lensing systems (after cut) on path: {:4.0f}'.format(len(data_cut)))"
   ]
  },
  {
   "cell_type": "code",
   "execution_count": 6,
   "metadata": {
    "colab": {
     "base_uri": "https://localhost:8080/"
    },
    "id": "oxv8m3L3NpEw",
    "outputId": "7bba8ed8-4551-42fc-b272-0062ac5d0112"
   },
   "outputs": [
    {
     "name": "stdout",
     "output_type": "stream",
     "text": [
      "14878 3720\n"
     ]
    }
   ],
   "source": [
    "# split our data in training and test dataset with ration 80 - 20 %\n",
    "np.random.seed(42)\n",
    "files_names_train, files_names_test = train_test_split(data_cut, test_size=0.2)\n",
    "print(len(files_names_train), len(files_names_test))"
   ]
  },
  {
   "cell_type": "code",
   "execution_count": 7,
   "metadata": {
    "colab": {
     "base_uri": "https://localhost:8080/"
    },
    "id": "Jzv5mwUONsME",
    "outputId": "975a9275-3fba-4fa3-c005-d4281c978de3"
   },
   "outputs": [
    {
     "name": "stdout",
     "output_type": "stream",
     "text": [
      "13390 3720 1488\n"
     ]
    }
   ],
   "source": [
    "# split our data in training and validation dataset with ration 90 - 10 %\n",
    "np.random.seed(42)\n",
    "files_names_train, files_names_val = train_test_split(files_names_train, test_size=0.1)\n",
    "print(len(files_names_train), len(files_names_test), len(files_names_val))"
   ]
  },
  {
   "cell_type": "code",
   "execution_count": 8,
   "metadata": {},
   "outputs": [],
   "source": [
    "bayesian_systems=os.listdir(path+'/output/')\n",
    "\n",
    "bayesian_systems = np.array(bayesian_systems, dtype=int)"
   ]
  },
  {
   "cell_type": "code",
   "execution_count": 9,
   "metadata": {},
   "outputs": [
    {
     "name": "stdout",
     "output_type": "stream",
     "text": [
      "13370 3742 1486\n"
     ]
    }
   ],
   "source": [
    "# removing bayesian systems in train and validation data set and adding in the test dataset\n",
    "idx_train = []\n",
    "idx_val = []\n",
    "for i in range(0, len(bayesian_systems)):\n",
    "    if bayesian_systems[i] in files_names_train:\n",
    "        idx_train.append(np.where(files_names_train==bayesian_systems[i])[0][0])\n",
    "    if bayesian_systems[i] in files_names_val:\n",
    "        idx_val.append(np.where(files_names_val==bayesian_systems[i])[0][0])\n",
    "    if bayesian_systems[i] not in files_names_test:\n",
    "        files_names_test.append(bayesian_systems[i])\n",
    "    \n",
    "files_names_train=np.delete(files_names_train, idx_train)\n",
    "files_names_val=np.delete(files_names_val, idx_val)\n",
    "\n",
    "# result\n",
    "print(len(files_names_train), len(files_names_test), len(files_names_val))"
   ]
  },
  {
   "cell_type": "code",
   "execution_count": 10,
   "metadata": {
    "colab": {
     "base_uri": "https://localhost:8080/"
    },
    "id": "qite3lgTNuO2",
    "outputId": "64df9edf-c5c3-428e-eee0-b64560728d93",
    "scrolled": true
   },
   "outputs": [],
   "source": [
    "# train\n",
    "x_train = []\n",
    "y_train = []\n",
    "for i in range(0, len(files_names_train)):\n",
    "    #print(i)\n",
    "    x_train.append(np.array([fits.open(path+'/LensPop/images/'+str(files_names_train[i])+\"/image_g_SDSS.fits\")[0].data, fits.open(path+'/LensPop/images/'+str(files_names_train[i])+\"/image_r_SDSS.fits\")[0].data, fits.open(path+'/LensPop/images/'+str(files_names_train[i])+\"/image_i_SDSS.fits\")[0].data]))\n",
    "    y_train.append(float(lenses_DESc[\"b\"][lenses_DESc[\"id\"]==files_names_train[i]]))\n",
    "\n",
    "# test\n",
    "x_test = []\n",
    "y_test = [] # true values\n",
    "for i in range(0, len(files_names_test)):\n",
    "    #print(i)\n",
    "    x_test.append(np.array([fits.open(path+'/LensPop/images/'+str(files_names_test[i])+\"/image_g_SDSS.fits\")[0].data, fits.open(path+'/LensPop/images/'+str(files_names_test[i])+\"/image_r_SDSS.fits\")[0].data, fits.open(path+'/LensPop/images/'+str(files_names_test[i])+\"/image_i_SDSS.fits\")[0].data]))\n",
    "    y_test.append(float(lenses_DESc[\"b\"][lenses_DESc[\"id\"]==files_names_test[i]]))\n",
    "\n",
    "# val\n",
    "x_val = []\n",
    "y_val = [] \n",
    "for i in range(0, len(files_names_val)):\n",
    "    #print(i)\n",
    "    x_val.append(np.array([fits.open(path+'/LensPop/images/'+str(files_names_val[i])+\"/image_g_SDSS.fits\")[0].data, fits.open(path+'/LensPop/images/'+str(files_names_val[i])+\"/image_r_SDSS.fits\")[0].data, fits.open(path+'/LensPop/images/'+str(files_names_val[i])+\"/image_i_SDSS.fits\")[0].data]))\n",
    "    y_val.append(float(lenses_DESc[\"b\"][lenses_DESc[\"id\"]==files_names_val[i]]))"
   ]
  },
  {
   "cell_type": "code",
   "execution_count": 11,
   "metadata": {
    "id": "Iase6XKmR7b5"
   },
   "outputs": [
    {
     "name": "stdout",
     "output_type": "stream",
     "text": [
      "(13370, 76, 76, 3) (3742, 76, 76, 3) (1486, 76, 76, 3)\n"
     ]
    }
   ],
   "source": [
    "# transform into arrays and move some axis\n",
    "x_train = np.array(x_train, dtype=np.float32)\n",
    "y_train = np.array(y_train, dtype=np.float32)\n",
    "\n",
    "x_test = np.array(x_test, dtype=np.float32)\n",
    "y_test = np.array(y_test, dtype=np.float32)\n",
    "\n",
    "x_val = np.array(x_val, dtype=np.float32)\n",
    "y_val = np.array(y_val, dtype=np.float32)\n",
    "\n",
    "x_train = np.moveaxis(x_train, 1, 2)\n",
    "x_train = np.moveaxis(x_train, 3, 2)\n",
    "\n",
    "x_test = np.moveaxis(x_test, 1, 2)\n",
    "x_test = np.moveaxis(x_test, 3, 2)\n",
    "\n",
    "x_val = np.moveaxis(x_val, 1, 2)\n",
    "x_val = np.moveaxis(x_val, 3, 2)\n",
    "\n",
    "print(x_train.shape, x_test.shape, x_val.shape)"
   ]
  },
  {
   "cell_type": "code",
   "execution_count": 12,
   "metadata": {
    "id": "rM2RpYTUdptZ",
    "scrolled": true
   },
   "outputs": [
    {
     "name": "stderr",
     "output_type": "stream",
     "text": [
      "2021-11-18 20:38:16.852305: W tensorflow/stream_executor/platform/default/dso_loader.cc:64] Could not load dynamic library 'libcuda.so.1'; dlerror: libcuda.so.1: cannot open shared object file: No such file or directory\n",
      "2021-11-18 20:38:16.854934: W tensorflow/stream_executor/cuda/cuda_driver.cc:269] failed call to cuInit: UNKNOWN ERROR (303)\n",
      "2021-11-18 20:38:16.855341: I tensorflow/stream_executor/cuda/cuda_diagnostics.cc:156] kernel driver does not appear to be running on this host (DESKTOP-0SVSQGR): /proc/driver/nvidia/version does not exist\n",
      "2021-11-18 20:38:16.860480: I tensorflow/core/platform/cpu_feature_guard.cc:151] This TensorFlow binary is optimized with oneAPI Deep Neural Network Library (oneDNN) to use the following CPU instructions in performance-critical operations:  AVX2 FMA\n",
      "To enable them in other operations, rebuild TensorFlow with the appropriate compiler flags.\n",
      "/tmp/ipykernel_5137/1335887546.py:35: UserWarning: `Model.fit_generator` is deprecated and will be removed in a future version. Please use `Model.fit`, which supports generators.\n",
      "  history = model.fit_generator(\n"
     ]
    },
    {
     "name": "stdout",
     "output_type": "stream",
     "text": [
      "Epoch 1/15\n",
      "418/417 [==============================] - ETA: 0s - loss: 0.4212"
     ]
    },
    {
     "name": "stderr",
     "output_type": "stream",
     "text": [
      "2021-11-18 20:39:14.526679: W tensorflow/core/framework/cpu_allocator_impl.cc:82] Allocation of 102997632 exceeds 10% of free system memory.\n"
     ]
    },
    {
     "name": "stdout",
     "output_type": "stream",
     "text": [
      "417/417 [==============================] - 60s 142ms/step - loss: 0.4212 - val_loss: 0.0649\n",
      "Epoch 2/15\n",
      "417/417 [==============================] - 56s 133ms/step - loss: 0.0723 - val_loss: 0.0815\n",
      "Epoch 3/15\n",
      "417/417 [==============================] - 53s 127ms/step - loss: 0.0564 - val_loss: 0.0470\n",
      "Epoch 4/15\n",
      "417/417 [==============================] - 55s 132ms/step - loss: 0.0540 - val_loss: 0.0474\n",
      "Epoch 5/15\n",
      "417/417 [==============================] - 55s 131ms/step - loss: 0.0512 - val_loss: 0.0407\n",
      "Epoch 6/15\n",
      "417/417 [==============================] - 54s 130ms/step - loss: 0.0482 - val_loss: 0.0626\n",
      "Epoch 7/15\n",
      "417/417 [==============================] - 54s 129ms/step - loss: 0.0471 - val_loss: 0.0434\n",
      "Epoch 8/15\n",
      "417/417 [==============================] - 55s 131ms/step - loss: 0.0425 - val_loss: 0.0317\n",
      "Epoch 9/15\n",
      "417/417 [==============================] - 54s 128ms/step - loss: 0.0417 - val_loss: 0.0492\n",
      "Epoch 10/15\n",
      "417/417 [==============================] - 54s 128ms/step - loss: 0.0414 - val_loss: 0.0325\n",
      "Epoch 11/15\n",
      "417/417 [==============================] - 53s 128ms/step - loss: 0.0412 - val_loss: 0.0402\n",
      "Epoch 12/15\n",
      "417/417 [==============================] - 55s 131ms/step - loss: 0.0392 - val_loss: 0.0348\n",
      "Epoch 13/15\n",
      "417/417 [==============================] - 58s 138ms/step - loss: 0.0361 - val_loss: 0.0312\n",
      "Epoch 14/15\n",
      "417/417 [==============================] - 57s 137ms/step - loss: 0.0374 - val_loss: 0.0297\n",
      "Epoch 15/15\n",
      "417/417 [==============================] - 56s 134ms/step - loss: 0.0344 - val_loss: 0.0298\n"
     ]
    }
   ],
   "source": [
    "# Our deep learning algorithm \n",
    "inputs = tf.keras.Input(shape=(76, 76, 3))\n",
    "\n",
    "x = tf.keras.layers.Conv2D(filters=16, kernel_size=(3,3), activation='relu')(inputs)\n",
    "x = tf.keras.layers.Conv2D(filters=16, kernel_size=(3,3), activation='relu')(x)\n",
    "x = tf.keras.layers.MaxPool2D()(x)\n",
    "x = tf.keras.layers.Conv2D(filters=32, kernel_size=(3,3), activation='relu')(x)\n",
    "x = tf.keras.layers.Conv2D(filters=32, kernel_size=(1,1), activation='relu')(x)\n",
    "x = tf.keras.layers.MaxPool2D()(x)\n",
    "x = tf.keras.layers.Conv2D(filters=32, kernel_size=(5,5), activation='relu')(x)\n",
    "x = tf.keras.layers.Conv2D(filters=32, kernel_size=(5,5), activation='relu')(x)\n",
    "x = tf.keras.layers.Conv2D(filters=32, kernel_size=(1,1), activation='relu')(x)\n",
    "x = tf.keras.layers.Conv2D(filters=32, kernel_size=(5,5), activation='relu')(x)\n",
    "\n",
    "x = tf.keras.layers.GlobalAveragePooling2D()(x)\n",
    "x = tf.keras.layers.Dense(128, activation='relu')(x)\n",
    "x = tf.keras.layers.Dropout(rate=0.2)(x)\n",
    "x = tf.keras.layers.Dense(256, activation='relu')(x)\n",
    "x = tf.keras.layers.Dropout(rate=0.2)(x)\n",
    "\n",
    "outputs = tf.keras.layers.Dense(1, activation='linear')(x)\n",
    "model = tf.keras.Model(inputs=inputs, outputs=outputs)\n",
    "\n",
    "model.compile(\n",
    "    optimizer = 'adam',\n",
    "    loss = 'mse'\n",
    ")\n",
    "\n",
    "gen = tf.keras.preprocessing.image.ImageDataGenerator()\n",
    "\n",
    "batch_size=32\n",
    "start = time.perf_counter()\n",
    "generator = gen.flow(x_train, y_train, batch_size = batch_size)\n",
    "\n",
    "history = model.fit_generator(\n",
    "    generator,\n",
    "    steps_per_epoch=len(x_train)/batch_size,\n",
    "    epochs=15,\n",
    "    validation_data = (x_val, y_val),\n",
    "    validation_steps = len(x_val),\n",
    "    callbacks=[\n",
    "        tf.keras.callbacks.EarlyStopping(\n",
    "            monitor='val_loss',\n",
    "            patience=5,\n",
    "            restore_best_weights=True\n",
    "        )\n",
    "    ]\n",
    "\n",
    ")"
   ]
  },
  {
   "cell_type": "code",
   "execution_count": 13,
   "metadata": {
    "id": "wLLe3JkWdwwA"
   },
   "outputs": [
    {
     "data": {
      "image/png": "[encoded data removed]",
      "text/plain": [
       "<Figure size 432x288 with 1 Axes>"
      ]
     },
     "metadata": {
      "needs_background": "light"
     },
     "output_type": "display_data"
    }
   ],
   "source": [
    "plt.rcParams.update({\"font.size\": 13})\n",
    "\n",
    "plt.plot(history.history['loss'], label='train', c='slateblue')\n",
    "plt.plot(history.history['val_loss'], label='validation', c='salmon')\n",
    "plt.xlabel('epochs')\n",
    "plt.ylabel('loss')\n",
    "plt.legend();"
   ]
  },
  {
   "cell_type": "code",
   "execution_count": 14,
   "metadata": {},
   "outputs": [
    {
     "name": "stderr",
     "output_type": "stream",
     "text": [
      "2021-11-18 20:52:05.810687: W tensorflow/core/framework/cpu_allocator_impl.cc:82] Allocation of 259365504 exceeds 10% of free system memory.\n",
      "2021-11-18 20:52:09.560308: W tensorflow/core/framework/cpu_allocator_impl.cc:82] Allocation of 259365504 exceeds 10% of free system memory.\n"
     ]
    },
    {
     "name": "stdout",
     "output_type": "stream",
     "text": [
      "Test RMSE: 0.18195340698272749468955566953809466212987899780273\n",
      "Test R^2: 0.81518427771930057623706034064525738358497619628906\n"
     ]
    }
   ],
   "source": [
    "predicted_radius = np.squeeze(model.predict(x_test))\n",
    "true_radius = y_test\n",
    "\n",
    "rmse = np.sqrt(model.evaluate(x_test, y_test, verbose=0))\n",
    "print('Test RMSE: {:.50f}'.format(rmse))\n",
    "\n",
    "r2 = r2_score(true_radius, predicted_radius)\n",
    "print('Test R^2: {:.50f}'.format(r2))"
   ]
  },
  {
   "cell_type": "code",
   "execution_count": 15,
   "metadata": {},
   "outputs": [
    {
     "data": {
      "text/html": [
       "<div>\n",
       "<style scoped>\n",
       "    .dataframe tbody tr th:only-of-type {\n",
       "        vertical-align: middle;\n",
       "    }\n",
       "\n",
       "    .dataframe tbody tr th {\n",
       "        vertical-align: top;\n",
       "    }\n",
       "\n",
       "    .dataframe thead th {\n",
       "        text-align: right;\n",
       "    }\n",
       "</style>\n",
       "<table border=\"1\" class=\"dataframe\">\n",
       "  <thead>\n",
       "    <tr style=\"text-align: right;\">\n",
       "      <th></th>\n",
       "      <th>sys</th>\n",
       "      <th>pred</th>\n",
       "      <th>true</th>\n",
       "    </tr>\n",
       "  </thead>\n",
       "  <tbody>\n",
       "    <tr>\n",
       "      <th>0</th>\n",
       "      <td>3111.0</td>\n",
       "      <td>1.781155</td>\n",
       "      <td>1.497</td>\n",
       "    </tr>\n",
       "    <tr>\n",
       "      <th>1</th>\n",
       "      <td>6113.0</td>\n",
       "      <td>1.434306</td>\n",
       "      <td>1.442</td>\n",
       "    </tr>\n",
       "    <tr>\n",
       "      <th>2</th>\n",
       "      <td>16001.0</td>\n",
       "      <td>1.426305</td>\n",
       "      <td>1.541</td>\n",
       "    </tr>\n",
       "    <tr>\n",
       "      <th>3</th>\n",
       "      <td>14954.0</td>\n",
       "      <td>1.984401</td>\n",
       "      <td>1.819</td>\n",
       "    </tr>\n",
       "    <tr>\n",
       "      <th>4</th>\n",
       "      <td>19867.0</td>\n",
       "      <td>0.816805</td>\n",
       "      <td>0.806</td>\n",
       "    </tr>\n",
       "  </tbody>\n",
       "</table>\n",
       "</div>"
      ],
      "text/plain": [
       "       sys      pred   true\n",
       "0   3111.0  1.781155  1.497\n",
       "1   6113.0  1.434306  1.442\n",
       "2  16001.0  1.426305  1.541\n",
       "3  14954.0  1.984401  1.819\n",
       "4  19867.0  0.816805  0.806"
      ]
     },
     "execution_count": 15,
     "metadata": {},
     "output_type": "execute_result"
    }
   ],
   "source": [
    "results = pd.DataFrame(np.array([files_names_test, predicted_radius, true_radius]).T, columns=['sys', 'pred', 'true'])\n",
    "results.head()"
   ]
  },
  {
   "cell_type": "code",
   "execution_count": 16,
   "metadata": {},
   "outputs": [],
   "source": [
    "results.to_csv('./DL_results.txt', index=False)"
   ]
  },
  {
   "cell_type": "code",
   "execution_count": null,
   "metadata": {},
   "outputs": [],
   "source": []
  }
 ],
 "metadata": {
  "accelerator": "GPU",
  "colab": {
   "collapsed_sections": [],
   "name": "deep_learning_lens.ipynb",
   "provenance": []
  },
  "kernelspec": {
   "display_name": "Python 3 (ipykernel)",
   "language": "python",
   "name": "python3"
  },
  "language_info": {
   "codemirror_mode": {
    "name": "ipython",
    "version": 3
   },
   "file_extension": ".py",
   "mimetype": "text/x-python",
   "name": "python",
   "nbconvert_exporter": "python",
   "pygments_lexer": "ipython3",
   "version": "3.8.10"
  }
 },
 "nbformat": 4,
 "nbformat_minor": 1
}
